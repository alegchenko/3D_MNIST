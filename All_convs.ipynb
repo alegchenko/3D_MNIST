{
  "nbformat": 4,
  "nbformat_minor": 0,
  "metadata": {
    "colab": {
      "name": "Untitled2.ipynb",
      "provenance": []
    },
    "kernelspec": {
      "name": "python3",
      "display_name": "Python 3"
    },
    "language_info": {
      "name": "python"
    },
    "accelerator": "GPU"
  },
  "cells": [
    {
      "cell_type": "code",
      "metadata": {
        "colab": {
          "base_uri": "https://localhost:8080/",
          "height": 35
        },
        "id": "Nia7o6N3x8na",
        "outputId": "17d3f169-3e60-4ccb-c355-a0b6a89b022f"
      },
      "source": [
        "import tensorflow as tf\n",
        "tf.version.VERSION"
      ],
      "execution_count": 1,
      "outputs": [
        {
          "output_type": "execute_result",
          "data": {
            "application/vnd.google.colaboratory.intrinsic+json": {
              "type": "string"
            },
            "text/plain": [
              "'2.6.0'"
            ]
          },
          "metadata": {},
          "execution_count": 1
        }
      ]
    },
    {
      "cell_type": "code",
      "metadata": {
        "id": "NxGhND0Zy-Gu"
      },
      "source": [
        "from tensorflow import keras\n",
        "import numpy as np"
      ],
      "execution_count": 2,
      "outputs": []
    },
    {
      "cell_type": "code",
      "metadata": {
        "colab": {
          "base_uri": "https://localhost:8080/"
        },
        "id": "eETpT2JBycoy",
        "outputId": "61668f19-5741-4d46-a4e5-c0205fa6dd94"
      },
      "source": [
        "print(\"Num GPUs Available: \", len(tf.config.list_physical_devices('GPU')))"
      ],
      "execution_count": 3,
      "outputs": [
        {
          "output_type": "stream",
          "text": [
            "Num GPUs Available:  1\n"
          ],
          "name": "stdout"
        }
      ]
    },
    {
      "cell_type": "code",
      "metadata": {
        "id": "LsiOcKrGzqhE"
      },
      "source": [
        "import math as m\n",
        "pi = tf.constant(m.pi)"
      ],
      "execution_count": 11,
      "outputs": []
    },
    {
      "cell_type": "code",
      "metadata": {
        "id": "yhMx0ftzyxQm"
      },
      "source": [
        "from keras.models import Model\n",
        "from keras.layers import Dense, Input, Flatten, MaxPooling3D"
      ],
      "execution_count": 5,
      "outputs": []
    },
    {
      "cell_type": "code",
      "metadata": {
        "id": "fqa_Psht0QoD"
      },
      "source": [
        "from tensorflow import keras\n",
        "import numpy as np\n",
        "import matplotlib.pyplot as plt\n",
        "from keras import layers\n",
        "import h5py"
      ],
      "execution_count": 7,
      "outputs": []
    },
    {
      "cell_type": "code",
      "metadata": {
        "id": "EBvvlE-C7Kz8"
      },
      "source": [
        "class Sphere_3d(tf.keras.layers.Layer):\n",
        "    def sphere(self,x,y,z, x_center, y_center, z_center, radius):\n",
        "        return -tf.tanh(tf.pow((x_center - x), 2) + tf.pow((y_center - y), 2) + tf.pow((z_center - z), 2) - radius)\n",
        " \n",
        "    def build(self, input_shapes): \n",
        "        \n",
        "        self.x_c = self.add_weight(name='x_c',\n",
        "        shape=([self.output_channels]), initializer=tf.keras.initializers.RandomUniform(\n",
        "        minval=-self.ker_size//2, maxval=self.ker_size//2, seed=None\n",
        "        ),trainable=True)\n",
        "        \n",
        "        self.y_c = self.add_weight(name='y_c',\n",
        "        shape=([self.output_channels]), initializer=tf.keras.initializers.RandomUniform(\n",
        "        minval=-self.ker_size//2, maxval=self.ker_size//2, seed=None),trainable=True)\n",
        "        \n",
        "        self.z_c = self.add_weight(name='z_c',\n",
        "        shape=([self.output_channels]), initializer=tf.keras.initializers.RandomUniform(\n",
        "        minval=-self.ker_size//2, maxval=self.ker_size//2, seed=None\n",
        "        ), trainable=True)\n",
        "        \n",
        "        self.R = self.add_weight(name='R',\n",
        "        shape=([self.output_channels]), initializer=tf.keras.initializers.RandomUniform(\n",
        "        minval=0, maxval=tf.pow(self.ker_size//2,2), seed=None)\n",
        "        ,trainable=True)\n",
        "\n",
        "    def get_weights(self):\n",
        "        ker_size = self.ker_size\n",
        "        d1 = []\n",
        "        for id in range(self.output_channels):\n",
        "            c1 = self.sphere(self.x,self.y,self.z,self.x_c[id], self.y_c[id], self.z_c[id],self.R[id])\n",
        "            d1.append(tf.reshape(c1,[ker_size,ker_size,ker_size,1]))\n",
        "        weights = tf.stack(d1,axis = -1)\n",
        "        return weights\n",
        "        \n",
        "    def __init__(self, ker_size, out_ch,padding = \"SAME\"):\n",
        "        super(Sphere_3d, self).__init__()\n",
        "\n",
        "        self.x = np.array([[np.arange(ker_size)]*ker_size]*ker_size)\n",
        "        self.y = np.transpose(self.x ,(2,0,1))\n",
        "        self.z = np.transpose(self.x,(1,2,0))\n",
        "        self.output_channels = out_ch\n",
        "        self.padding = padding\n",
        "        self.ker_size = tf.cast(ker_size, tf.float32)\n",
        "        self.conv = tf.nn.conv3d\n",
        "        self.ker_center = (self.ker_size + 1)/2\n",
        "\n",
        "    def call(self, inputdata):\n",
        "        return self.conv(inputdata, self.get_weights(),  strides=[1,1, 1, 1, 1], padding = self.padding)"
      ],
      "execution_count": 30,
      "outputs": []
    },
    {
      "cell_type": "code",
      "metadata": {
        "id": "0MJJ27M0yxTF"
      },
      "source": [
        "class Tanh3d(tf.keras.layers.Layer):\n",
        "    def _rotate(self, x, y, theta):\n",
        "        x_ = x*tf.cos(theta) + y*tf.sin(theta)\n",
        "        y_ = -x*tf.sin(theta) + y*tf.cos(theta)\n",
        "        return (x_, y_)\n",
        "\n",
        "    def _tanh_3d(self, x, y, z, theta, phi, lmbda):\n",
        "        x, z = self._rotate(x, z, theta) \n",
        "        x, y = self._rotate(x, y, phi)\n",
        "        return tf.tanh(x / lmbda)\n",
        "    \n",
        "\n",
        "    def _get_weights(self, theta, phi, lmbda):\n",
        "        ker_size = self.ker_size\n",
        "        d1 = []\n",
        "        for id in range(self.output_channels):\n",
        "            c1 = self._tanh_3d(self.x,self.y,self.z,theta[id], phi[id], lmbda[id])\n",
        "            d1.append(tf.reshape(c1,[ker_size,ker_size,ker_size,1]))\n",
        "        weights = tf.stack(d1,axis = -1)\n",
        "        return weights\n",
        "\n",
        "    def _tanh_param_grid(self, theta, phi, lmbda):\n",
        "        theta_ = []\n",
        "        phi_ = []\n",
        "        lmbda_ = []\n",
        "        for t in theta:\n",
        "            for p in phi:\n",
        "                for l in lmbda:\n",
        "                    theta_.append(t)\n",
        "                    phi_.append(p)\n",
        "                    lmbda_.append(l)\n",
        "        return theta_, phi_, lmbda_\n",
        "\n",
        "    def build(self, input_shapes): \n",
        "        theta_sz = self.output_channels\n",
        "        lmbda_sz = self.output_channels\n",
        "        phi_sz = self.output_channels\n",
        "        \n",
        "        self.theta = self.add_weight(name='theta',\n",
        "        shape=((self.output_channels)), initializer='zeros',\n",
        "                                 trainable=True)\n",
        "        self.phi = self.add_weight(name='phi',\n",
        "        shape=((self.output_channels)), initializer='zeros',\n",
        "                                 trainable=True)\n",
        "        self.lmbda = self.add_weight(name='lambda',\n",
        "        shape=((self.output_channels)), initializer='zeros',\n",
        "                                 trainable=True)\n",
        "        \n",
        "        _theta = tf.cast(tf.range(theta_sz),dtype = tf.float32) * (2*pi/theta_sz)\n",
        "        _phi = tf.cast(tf.range(phi_sz), dtype = tf.float32) * (2*pi/phi_sz)\n",
        "        _lmbda = tf.exp(tf.cast(tf.range(-lmbda_sz//2+1, lmbda_sz//2+1), dtype = tf.float32))\n",
        "        \n",
        "        self.theta.assign(_theta)\n",
        "        self.phi.assign(_phi)\n",
        "        self.lmbda.assign(_lmbda)\n",
        "\n",
        "    def __init__(self, ker_size, out_ch,padding = \"SAME\"):\n",
        "        super(Tanh3d, self).__init__()\n",
        "\n",
        "        self.x = np.array([[np.arange(ker_size)]*ker_size]*ker_size)\n",
        "        self.y = np.transpose(self.x ,(2,0,1))\n",
        "        self.z = np.transpose(self.x,(1,2,0))\n",
        "        self.output_channels = out_ch\n",
        "        self.padding = padding\n",
        "        self.ker_size = ker_size\n",
        "        self.conv = tf.nn.conv3d\n",
        "\n",
        "    def call(self, input_data):\n",
        "        self.kernel = self._get_weights(self.theta, self.phi, self.lmbda)\n",
        "        return self.conv(input_data, self.kernel, strides=[1,1, 1, 1, 1], padding = self.padding)"
      ],
      "execution_count": 18,
      "outputs": []
    },
    {
      "cell_type": "code",
      "metadata": {
        "id": "aCWFNhn8_GfO"
      },
      "source": [
        "class Hyper_3d(tf.keras.layers.Layer):\n",
        "    def hyperboloid_(self,x, y, z,x_c,y_c,z_c, a, b, c):\n",
        "        return  2*tf.exp(-(((x_c-x)/a)**2 + ((y_c-y)/b)**2 - ((z_c-z)/c)**2 - 1)**2/0.5) - 0.5\n",
        "    \n",
        "    def build(self, input_shapes): \n",
        "        \n",
        "        self.x_c = self.add_weight(name='x_c',\n",
        "        shape=([self.output_channels]), initializer=tf.keras.initializers.RandomUniform(\n",
        "        minval=-self.ker_size//2, maxval=self.ker_size//2, seed=None\n",
        "        ),trainable=True)\n",
        "        \n",
        "        self.y_c = self.add_weight(name='y_c',\n",
        "        shape=([self.output_channels]), initializer=tf.keras.initializers.RandomUniform(\n",
        "        minval=-self.ker_size//2, maxval=self.ker_size//2, seed=None),trainable=True)\n",
        "        \n",
        "        self.z_c = self.add_weight(name='z_c',\n",
        "        shape=([self.output_channels]), initializer=tf.keras.initializers.RandomUniform(\n",
        "        minval=-self.ker_size//2, maxval=self.ker_size//2, seed=None\n",
        "        ), trainable=True)\n",
        "        \n",
        "        self.a = self.add_weight(name='a',\n",
        "        shape=([self.output_channels]), initializer=tf.keras.initializers.RandomUniform(\n",
        "        minval=0, maxval=tf.pow(self.ker_size//2,2), seed=None)\n",
        "        ,trainable=True)\n",
        "        \n",
        "        self.b = self.add_weight(name='b',\n",
        "        shape=([self.output_channels]), initializer=tf.keras.initializers.RandomUniform(\n",
        "        minval=0, maxval=tf.pow(self.ker_size//2,2), seed=None)\n",
        "        ,trainable=True)\n",
        "        \n",
        "        self.c = self.add_weight(name='c',\n",
        "        shape=([self.output_channels]), initializer=tf.keras.initializers.RandomUniform(\n",
        "        minval=0, maxval=tf.pow(self.ker_size//2,2), seed=None)\n",
        "        ,trainable=True)\n",
        "\n",
        "    def get_weights(self):\n",
        "        ker_size = self.ker_size\n",
        "        d1 = []\n",
        "        for id in range(self.output_channels):\n",
        "            c1 = self.hyperboloid_(self.x,self.y,self.z,self.x_c[id], self.y_c[id], self.z_c[id],self.a[id], self.b[id], self.c[id])\n",
        "            d1.append(tf.reshape(c1,[ker_size,ker_size,ker_size,1]))\n",
        "        weights = tf.stack(d1,axis = -1)\n",
        "        return weights\n",
        "        \n",
        "    def __init__(self, ker_size, out_ch,padding = \"SAME\"):\n",
        "        super(Hyper_3d, self).__init__()\n",
        "\n",
        "        self.x = np.array([[np.arange(ker_size)]*ker_size]*ker_size)\n",
        "        self.y = np.transpose(self.x ,(2,0,1))\n",
        "        self.z = np.transpose(self.x,(1,2,0))\n",
        "        self.output_channels = out_ch\n",
        "        self.padding = padding\n",
        "        self.ker_size = tf.cast(ker_size, tf.float32)\n",
        "        self.conv = tf.nn.conv3d\n",
        "        self.ker_center = (self.ker_size + 1)/2\n",
        "\n",
        "    def call(self, inputdata):\n",
        "        return self.conv(inputdata, self.get_weights(),  strides=[1,1, 1, 1, 1], padding = self.padding)"
      ],
      "execution_count": 36,
      "outputs": []
    },
    {
      "cell_type": "code",
      "metadata": {
        "id": "ZjiYOgh__QcO"
      },
      "source": [
        "class HyperL_3d(tf.keras.layers.Layer):\n",
        "    def hyperboloid_(self,x, y, z, a, b, c):\n",
        "        return  2*tf.exp(-((x/a)**2 + (y/b)**2 - (z/c)**2 - 1)**2/0.5) - 0.5\n",
        "    \n",
        "    def build(self, input_shapes): \n",
        "        \n",
        "        self.a = self.add_weight(name='a',\n",
        "        shape=([self.output_channels]), initializer=tf.keras.initializers.RandomUniform(\n",
        "        minval=0, maxval=tf.pow(self.ker_size//2,2), seed=None)\n",
        "        ,trainable=True)\n",
        "        \n",
        "        self.b = self.add_weight(name='b',\n",
        "        shape=([self.output_channels]), initializer=tf.keras.initializers.RandomUniform(\n",
        "        minval=0, maxval=tf.pow(self.ker_size//2,2), seed=None)\n",
        "        ,trainable=True)\n",
        "        \n",
        "        self.c = self.add_weight(name='c',\n",
        "        shape=([self.output_channels]), initializer=tf.keras.initializers.RandomUniform(\n",
        "        minval=0, maxval=tf.pow(self.ker_size//2,2), seed=None)\n",
        "        ,trainable=True)\n",
        "\n",
        "    def get_weights(self):\n",
        "        ker_size = self.ker_size\n",
        "        d1 = []\n",
        "        for id in range(self.output_channels):\n",
        "            c1 = self.hyperboloid_(self.x,self.y,self.z,self.a[id], self.b[id], self.c[id])\n",
        "            d1.append(tf.reshape(c1,[ker_size,ker_size,ker_size,1]))\n",
        "        weights = tf.stack(d1,axis = -1)\n",
        "        return weights\n",
        "        \n",
        "    def __init__(self, ker_size, out_ch,padding = \"SAME\"):\n",
        "        super(HyperL_3d, self).__init__()\n",
        "\n",
        "        self.x = np.array([[np.arange(ker_size)]*ker_size]*ker_size)\n",
        "        self.y = np.transpose(self.x ,(2,0,1))\n",
        "        self.z = np.transpose(self.x,(1,2,0))\n",
        "        self.output_channels = out_ch\n",
        "        self.padding = padding\n",
        "        self.ker_size = tf.cast(ker_size, tf.float32)\n",
        "        self.conv = tf.nn.conv3d\n",
        "        self.ker_center = (self.ker_size + 1)/2\n",
        "\n",
        "    def call(self, inputdata):\n",
        "        return self.conv(inputdata, self.get_weights(),  strides=[1,1, 1, 1, 1], padding = self.padding)"
      ],
      "execution_count": 37,
      "outputs": []
    },
    {
      "cell_type": "code",
      "metadata": {
        "id": "KwfYZU8YyxVV"
      },
      "source": [
        "x = tf.random.uniform([5,10,10,10,1])"
      ],
      "execution_count": 9,
      "outputs": []
    },
    {
      "cell_type": "code",
      "metadata": {
        "colab": {
          "base_uri": "https://localhost:8080/"
        },
        "id": "_68QGWmizlUK",
        "outputId": "96aaf14b-c155-4ca9-d4c5-af33732b3436"
      },
      "source": [
        "Tanh3d(3,64)(x).shape"
      ],
      "execution_count": 12,
      "outputs": [
        {
          "output_type": "execute_result",
          "data": {
            "text/plain": [
              "TensorShape([5, 10, 10, 10, 64])"
            ]
          },
          "metadata": {},
          "execution_count": 12
        }
      ]
    },
    {
      "cell_type": "code",
      "metadata": {
        "colab": {
          "resources": {
            "http://localhost:8080/nbextensions/google.colab/files.js": {
              "data": "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",
              "ok": true,
              "headers": [
                [
                  "content-type",
                  "application/javascript"
                ]
              ],
              "status": 200,
              "status_text": ""
            }
          },
          "base_uri": "https://localhost:8080/",
          "height": 72
        },
        "id": "JiSJWp50zlWX",
        "outputId": "e6f10ebb-d061-45a2-e16e-ae58713106ce"
      },
      "source": [
        "from google.colab import files\n",
        "files.upload()"
      ],
      "execution_count": 13,
      "outputs": [
        {
          "output_type": "display_data",
          "data": {
            "text/html": [
              "\n",
              "     <input type=\"file\" id=\"files-887c8ff3-2d01-4c43-b636-d4cfb27acfc9\" name=\"files[]\" multiple disabled\n",
              "        style=\"border:none\" />\n",
              "     <output id=\"result-887c8ff3-2d01-4c43-b636-d4cfb27acfc9\">\n",
              "      Upload widget is only available when the cell has been executed in the\n",
              "      current browser session. Please rerun this cell to enable.\n",
              "      </output>\n",
              "      <script src=\"/nbextensions/google.colab/files.js\"></script> "
            ],
            "text/plain": [
              "<IPython.core.display.HTML object>"
            ]
          },
          "metadata": {}
        },
        {
          "output_type": "stream",
          "text": [
            "Saving full_dataset_vectors.h5 to full_dataset_vectors.h5\n"
          ],
          "name": "stdout"
        }
      ]
    },
    {
      "cell_type": "code",
      "metadata": {
        "id": "BEqgjQXdzlYn"
      },
      "source": [
        "with h5py.File(\"full_dataset_vectors.h5\", \"r\") as hf:    \n",
        "    X_train = hf[\"X_train\"][:]\n",
        "    y_train = hf[\"y_train\"][:]    \n",
        "    X_test = hf[\"X_test\"][:]  \n",
        "    y_test = hf[\"y_test\"][:]  "
      ],
      "execution_count": 14,
      "outputs": []
    },
    {
      "cell_type": "code",
      "metadata": {
        "id": "fDJ8LkeB3JX3"
      },
      "source": [
        "def one_hot(labels):\n",
        "    res = []\n",
        "    for i in labels:\n",
        "        a = [0]*10\n",
        "        a[i] = 1\n",
        "        res.append(a)\n",
        "    return np.array(res)"
      ],
      "execution_count": 15,
      "outputs": []
    },
    {
      "cell_type": "code",
      "metadata": {
        "id": "IaMCArPp3Jap"
      },
      "source": [
        "train_images = X_train.reshape(10000,16,16,16,1)\n",
        "train_labels = one_hot(y_train)\n",
        "val_images = X_test.reshape(2000,16,16,16,1)\n",
        "val_labels = one_hot(y_test)"
      ],
      "execution_count": 16,
      "outputs": []
    },
    {
      "cell_type": "code",
      "metadata": {
        "id": "e6k79at93Jdz"
      },
      "source": [
        "inp = Input((16,16,16,1))\n",
        "#out1 = MyLayerD(2,5,1,8, tf.nn.relu)(inp)\n",
        "out0 = tf.keras.layers.BatchNormalization()(inp)\n",
        "#out1 = tf.keras.layers.Conv3D(32,(3,3,3),padding=\"same\", activation = \"relu\")(out0)\n",
        "#out1 = Conv3dGabor(5,1,32)(out0)\n",
        "out1 = Hyper_3d(5,24)(out0)\n",
        "out12 = Tanh3d(5,24)(out0)\n",
        "out13 = tf.keras.layers.Conv3D(24,(5,5,5),padding=\"same\", activation = \"relu\")(out0)\n",
        "#out2 = Poli3d(3,5,1,32,tf.nn.relu)(out0)\n",
        "#out2 = tf.keras.layers.Conv3D(32,(5,5,5),padding=\"same\", activation = \"relu\")(out0)\n",
        "out3 = MaxPooling3D(pool_size=(2, 2, 2))(tf.concat([out1,out12,out13],axis = 4))\n",
        "#out3 = MaxPooling3D(pool_size=(2, 2, 2))(out1)\n",
        "out30 = tf.keras.layers.BatchNormalization()(out3)\n",
        "out4 = tf.keras.layers.Conv3D(64,(3,3,3),padding=\"same\", activation = \"relu\")(out30)\n",
        "#out5 = tf.keras.layers.Conv2D(64,(3,3),padding=\"valid\", activation = \"relu\")(out4)\n",
        "#out2 = tf.keras.layers.Conv2D(32,(5,5),padding=\"valid\", activation = \"relu\")(out1)\n",
        "out31 = MaxPooling3D(pool_size=(2, 2, 2))(out4)\n",
        "#out41 = tf.keras.layers.Conv2D(64,(3,3),padding=\"same\", activation = \"relu\")(out6)\n",
        "#out51 = tf.keras.layers.Conv2D(128,(3,3),padding=\"same\", activation = \"relu\")(out41)\n",
        "#out61 = MaxPooling2D(pool_size=(2, 2))(out51)\n",
        "out7 = Flatten()(out31)\n",
        "out70 = tf.keras.layers.BatchNormalization()(out7)\n",
        "out71 = tf.keras.layers.Dropout(.3)(out70)\n",
        "out8 = Dense(512,activation = 'relu')(out71)\n",
        "out80 = tf.keras.layers.Dropout(.3)(out8)\n",
        "out9 = Dense(128, activation = 'relu')(out80)\n",
        "out10 = Dense(10,activation = \"softmax\")(out9)\n",
        "#outf = F(out)\n",
        "model = Model(inputs = inp, outputs = out10)"
      ],
      "execution_count": 60,
      "outputs": []
    },
    {
      "cell_type": "code",
      "metadata": {
        "id": "Udo1ZsLu_aNi"
      },
      "source": [
        ""
      ],
      "execution_count": 42,
      "outputs": []
    },
    {
      "cell_type": "code",
      "metadata": {
        "colab": {
          "base_uri": "https://localhost:8080/"
        },
        "id": "ZD9ccMWR3Jf3",
        "outputId": "881c9a37-de01-4d03-c665-e69f81a2aaf5"
      },
      "source": [
        "model.summary()"
      ],
      "execution_count": 49,
      "outputs": [
        {
          "output_type": "stream",
          "text": [
            "Model: \"model_3\"\n",
            "_________________________________________________________________\n",
            "Layer (type)                 Output Shape              Param #   \n",
            "=================================================================\n",
            "input_9 (InputLayer)         [(None, 16, 16, 16, 1)]   0         \n",
            "_________________________________________________________________\n",
            "batch_normalization_14 (Batc (None, 16, 16, 16, 1)     4         \n",
            "_________________________________________________________________\n",
            "hyper_l_3d (HyperL_3d)       (None, 16, 16, 16, 64)    192       \n",
            "_________________________________________________________________\n",
            "max_pooling3d_6 (MaxPooling3 (None, 8, 8, 8, 64)       0         \n",
            "_________________________________________________________________\n",
            "batch_normalization_15 (Batc (None, 8, 8, 8, 64)       256       \n",
            "_________________________________________________________________\n",
            "conv3d_4 (Conv3D)            (None, 8, 8, 8, 64)       110656    \n",
            "_________________________________________________________________\n",
            "max_pooling3d_7 (MaxPooling3 (None, 4, 4, 4, 64)       0         \n",
            "_________________________________________________________________\n",
            "flatten_3 (Flatten)          (None, 4096)              0         \n",
            "_________________________________________________________________\n",
            "batch_normalization_16 (Batc (None, 4096)              16384     \n",
            "_________________________________________________________________\n",
            "dropout_6 (Dropout)          (None, 4096)              0         \n",
            "_________________________________________________________________\n",
            "dense_9 (Dense)              (None, 512)               2097664   \n",
            "_________________________________________________________________\n",
            "dropout_7 (Dropout)          (None, 512)               0         \n",
            "_________________________________________________________________\n",
            "dense_10 (Dense)             (None, 128)               65664     \n",
            "_________________________________________________________________\n",
            "dense_11 (Dense)             (None, 10)                1290      \n",
            "=================================================================\n",
            "Total params: 2,292,110\n",
            "Trainable params: 2,283,788\n",
            "Non-trainable params: 8,322\n",
            "_________________________________________________________________\n"
          ],
          "name": "stdout"
        }
      ]
    },
    {
      "cell_type": "code",
      "metadata": {
        "colab": {
          "base_uri": "https://localhost:8080/"
        },
        "id": "Yd-JZsEQ3JiM",
        "outputId": "ca12e9bc-1e49-4c64-d171-870adfcfe559"
      },
      "source": [
        "INIT_LR = 0.0014\n",
        "BATCH_SIZE = 16\n",
        "EPOCHS = 50\n",
        "\n",
        "model.compile(\n",
        "    loss='categorical_crossentropy', \n",
        "    optimizer=keras.optimizers.Adamax(lr=INIT_LR),  \n",
        "    metrics=['accuracy']  \n",
        ")\n",
        "def lr_scheduler(epoch):\n",
        "    return INIT_LR * 0.96** epoch"
      ],
      "execution_count": 61,
      "outputs": [
        {
          "output_type": "stream",
          "text": [
            "/usr/local/lib/python3.7/dist-packages/keras/optimizer_v2/optimizer_v2.py:356: UserWarning: The `lr` argument is deprecated, use `learning_rate` instead.\n",
            "  \"The `lr` argument is deprecated, use `learning_rate` instead.\")\n"
          ],
          "name": "stderr"
        }
      ]
    },
    {
      "cell_type": "code",
      "metadata": {
        "id": "4-dmeUUTGBBD"
      },
      "source": [
        "historyHB = model.fit(\n",
        "    train_images, train_labels,  # prepared data\n",
        "    batch_size=BATCH_SIZE,\n",
        "    epochs=EPOCHS,\n",
        "    validation_data=(val_images, val_labels),\n",
        "    callbacks=[keras.callbacks.LearningRateScheduler(lr_scheduler)],\n",
        "    shuffle=True,\n",
        "    verbose=0,\n",
        ")"
      ],
      "execution_count": null,
      "outputs": []
    },
    {
      "cell_type": "code",
      "metadata": {
        "id": "D0SoS9Pq3lln"
      },
      "source": [
        "historyTB = model.fit(\n",
        "    train_images, train_labels,  # prepared data\n",
        "    batch_size=BATCH_SIZE,\n",
        "    epochs=EPOCHS,\n",
        "    validation_data=(val_images, val_labels),\n",
        "    callbacks=[keras.callbacks.LearningRateScheduler(lr_scheduler)],\n",
        "    shuffle=True,\n",
        "    verbose=0,\n",
        ")"
      ],
      "execution_count": 23,
      "outputs": []
    },
    {
      "cell_type": "code",
      "metadata": {
        "id": "bjvbWrJbP2hu"
      },
      "source": [
        "historyH = model.fit(\n",
        "    train_images, train_labels,  # prepared data\n",
        "    batch_size=BATCH_SIZE,\n",
        "    epochs=EPOCHS,\n",
        "    validation_data=(val_images, val_labels),\n",
        "    callbacks=[keras.callbacks.LearningRateScheduler(lr_scheduler)],\n",
        "    shuffle=True,\n",
        "    verbose=0,\n",
        ")"
      ],
      "execution_count": null,
      "outputs": []
    },
    {
      "cell_type": "code",
      "metadata": {
        "id": "iSWjQ0IJQegT"
      },
      "source": [
        "history3 = model.fit(\n",
        "    train_images, train_labels,  # prepared data\n",
        "    batch_size=BATCH_SIZE,\n",
        "    epochs=EPOCHS,\n",
        "    validation_data=(val_images, val_labels),\n",
        "    callbacks=[keras.callbacks.LearningRateScheduler(lr_scheduler)],\n",
        "    shuffle=True,\n",
        "    verbose=0,\n",
        ")"
      ],
      "execution_count": null,
      "outputs": []
    },
    {
      "cell_type": "code",
      "metadata": {
        "id": "TXb8G0O2Qkm8"
      },
      "source": [
        "np.max(historyT3.history['val_accuracy'])"
      ],
      "execution_count": null,
      "outputs": []
    },
    {
      "cell_type": "code",
      "metadata": {
        "id": "FGk1lzD1QkpY"
      },
      "source": [
        "np.max(historyTB.history['val_accuracy'])"
      ],
      "execution_count": null,
      "outputs": []
    },
    {
      "cell_type": "code",
      "metadata": {
        "id": "_S7pFRsiQkuU"
      },
      "source": [
        "np.max(historyH.history['val_accuracy'])"
      ],
      "execution_count": null,
      "outputs": []
    },
    {
      "cell_type": "code",
      "metadata": {
        "id": "dxXvM0k8Qkv1"
      },
      "source": [
        "np.max(historyHB.history['val_accuracy'])"
      ],
      "execution_count": null,
      "outputs": []
    },
    {
      "cell_type": "code",
      "metadata": {
        "id": "AYIHWrG6QkxD"
      },
      "source": [
        ""
      ],
      "execution_count": null,
      "outputs": []
    },
    {
      "cell_type": "code",
      "metadata": {
        "colab": {
          "base_uri": "https://localhost:8080/",
          "height": 282
        },
        "id": "iUTEWOox3lnS",
        "outputId": "64c9433b-2014-4a45-89ec-9bf1a3f6e5a5"
      },
      "source": [
        "plt.plot(historyTB.history['accuracy']) #5x5 base + tan \n",
        "plt.plot(historyTB.history['val_accuracy'])"
      ],
      "execution_count": 25,
      "outputs": [
        {
          "output_type": "execute_result",
          "data": {
            "text/plain": [
              "[<matplotlib.lines.Line2D at 0x7f896d95a490>]"
            ]
          },
          "metadata": {},
          "execution_count": 25
        },
        {
          "output_type": "display_data",
          "data": {
            "image/png": "[encoded data removed]",
            "text/plain": [
              "<Figure size 432x288 with 1 Axes>"
            ]
          },
          "metadata": {
            "needs_background": "light"
          }
        }
      ]
    },
    {
      "cell_type": "code",
      "metadata": {
        "colab": {
          "base_uri": "https://localhost:8080/"
        },
        "id": "RwISAVrj6rpJ",
        "outputId": "321392ab-2c78-4735-f84d-758e343b551f"
      },
      "source": [
        "np.max(historyTB.history['val_accuracy'])"
      ],
      "execution_count": 26,
      "outputs": [
        {
          "output_type": "execute_result",
          "data": {
            "text/plain": [
              "0.7864999771118164"
            ]
          },
          "metadata": {},
          "execution_count": 26
        }
      ]
    },
    {
      "cell_type": "code",
      "metadata": {
        "id": "eLA6Yccn6rr-"
      },
      "source": [
        "historyHL = model.fit(\n",
        "    train_images, train_labels,  # prepared data\n",
        "    batch_size=BATCH_SIZE,\n",
        "    epochs=EPOCHS,\n",
        "    validation_data=(val_images, val_labels),\n",
        "    callbacks=[keras.callbacks.LearningRateScheduler(lr_scheduler)],\n",
        "    shuffle=True,\n",
        "    verbose=0,\n",
        ")"
      ],
      "execution_count": 51,
      "outputs": []
    },
    {
      "cell_type": "code",
      "metadata": {
        "colab": {
          "base_uri": "https://localhost:8080/",
          "height": 282
        },
        "id": "41U8EEIN-ovt",
        "outputId": "aa53df0c-d1a7-405a-8fdc-704c3b90a0d6"
      },
      "source": [
        "plt.plot(historyS.history['accuracy']) #5x5 Sphere\n",
        "plt.plot(historyS.history['val_accuracy'])"
      ],
      "execution_count": 34,
      "outputs": [
        {
          "output_type": "execute_result",
          "data": {
            "text/plain": [
              "[<matplotlib.lines.Line2D at 0x7f896a105f90>]"
            ]
          },
          "metadata": {},
          "execution_count": 34
        },
        {
          "output_type": "display_data",
          "data": {
            "image/png": "[encoded data removed]",
            "text/plain": [
              "<Figure size 432x288 with 1 Axes>"
            ]
          },
          "metadata": {
            "needs_background": "light"
          }
        }
      ]
    },
    {
      "cell_type": "code",
      "metadata": {
        "colab": {
          "base_uri": "https://localhost:8080/"
        },
        "id": "who9v4Jx-vm4",
        "outputId": "38a8ed66-9e45-4164-e0bc-b0a44fbf4bdf"
      },
      "source": [
        "np.max(historyS.history['val_accuracy'])"
      ],
      "execution_count": 35,
      "outputs": [
        {
          "output_type": "execute_result",
          "data": {
            "text/plain": [
              "0.7354999780654907"
            ]
          },
          "metadata": {},
          "execution_count": 35
        }
      ]
    },
    {
      "cell_type": "code",
      "metadata": {
        "colab": {
          "base_uri": "https://localhost:8080/",
          "height": 282
        },
        "id": "tyPeQ2dn-vpz",
        "outputId": "450775ab-c8fa-4764-8231-013f0c8bf810"
      },
      "source": [
        "plt.plot(historyH.history['accuracy']) #5x5 Hyper\n",
        "plt.plot(historyH.history['val_accuracy'])"
      ],
      "execution_count": 46,
      "outputs": [
        {
          "output_type": "execute_result",
          "data": {
            "text/plain": [
              "[<matplotlib.lines.Line2D at 0x7f8a5895c150>]"
            ]
          },
          "metadata": {},
          "execution_count": 46
        },
        {
          "output_type": "display_data",
          "data": {
            "image/png": "[encoded data removed]",
            "text/plain": [
              "<Figure size 432x288 with 1 Axes>"
            ]
          },
          "metadata": {
            "needs_background": "light"
          }
        }
      ]
    },
    {
      "cell_type": "code",
      "metadata": {
        "colab": {
          "base_uri": "https://localhost:8080/"
        },
        "id": "aVUBLS47-vrv",
        "outputId": "ecb56e53-45ef-4a79-d445-8583d451a6ad"
      },
      "source": [
        "np.max(historyH.history['val_accuracy'])"
      ],
      "execution_count": 47,
      "outputs": [
        {
          "output_type": "execute_result",
          "data": {
            "text/plain": [
              "0.7689999938011169"
            ]
          },
          "metadata": {},
          "execution_count": 47
        }
      ]
    },
    {
      "cell_type": "code",
      "metadata": {
        "colab": {
          "base_uri": "https://localhost:8080/",
          "height": 282
        },
        "id": "O5h-Gm59-vuq",
        "outputId": "a86ae2a1-4dfd-4e34-d0d2-b62076f3a967"
      },
      "source": [
        "plt.plot(historyHB.history['accuracy']) #5x5 Hyper\n",
        "plt.plot(historyHB.history['val_accuracy'])"
      ],
      "execution_count": 55,
      "outputs": [
        {
          "output_type": "execute_result",
          "data": {
            "text/plain": [
              "[<matplotlib.lines.Line2D at 0x7f895c34f510>]"
            ]
          },
          "metadata": {},
          "execution_count": 55
        },
        {
          "output_type": "display_data",
          "data": {
            "image/png": "[encoded data removed]",
            "text/plain": [
              "<Figure size 432x288 with 1 Axes>"
            ]
          },
          "metadata": {
            "needs_background": "light"
          }
        }
      ]
    },
    {
      "cell_type": "code",
      "metadata": {
        "colab": {
          "base_uri": "https://localhost:8080/"
        },
        "id": "imgJSpvc-vzu",
        "outputId": "10406ec9-3224-460f-a872-667525fcfdd0"
      },
      "source": [
        "np.max(historyHB.history['val_accuracy'])"
      ],
      "execution_count": 56,
      "outputs": [
        {
          "output_type": "execute_result",
          "data": {
            "text/plain": [
              "0.7820000052452087"
            ]
          },
          "metadata": {},
          "execution_count": 56
        }
      ]
    },
    {
      "cell_type": "code",
      "metadata": {
        "colab": {
          "base_uri": "https://localhost:8080/",
          "height": 282
        },
        "id": "gYknM8no-v2A",
        "outputId": "f288d7dd-aea8-4a45-de44-a06809aa16ec"
      },
      "source": [
        "plt.plot(historyHL.history['accuracy']) #5x5 Hyper\n",
        "plt.plot(historyHL.history['val_accuracy'])"
      ],
      "execution_count": 57,
      "outputs": [
        {
          "output_type": "execute_result",
          "data": {
            "text/plain": [
              "[<matplotlib.lines.Line2D at 0x7f89553d1f10>]"
            ]
          },
          "metadata": {},
          "execution_count": 57
        },
        {
          "output_type": "display_data",
          "data": {
            "image/png": "[encoded data removed]",
            "text/plain": [
              "<Figure size 432x288 with 1 Axes>"
            ]
          },
          "metadata": {
            "needs_background": "light"
          }
        }
      ]
    },
    {
      "cell_type": "code",
      "metadata": {
        "colab": {
          "base_uri": "https://localhost:8080/"
        },
        "id": "rgGGmdQ0OVN4",
        "outputId": "5d12bf7e-b597-4fc4-b7c9-c783d31a3bb4"
      },
      "source": [
        "np.max(historyHL.history['val_accuracy'])"
      ],
      "execution_count": 59,
      "outputs": [
        {
          "output_type": "execute_result",
          "data": {
            "text/plain": [
              "0.7720000147819519"
            ]
          },
          "metadata": {},
          "execution_count": 59
        }
      ]
    }
  ]
}